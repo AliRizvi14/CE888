{
  "nbformat": 4,
  "nbformat_minor": 0,
  "metadata": {
    "kernelspec": {
      "display_name": "Python 3",
      "language": "python",
      "name": "python3"
    },
    "language_info": {
      "codemirror_mode": {
        "name": "ipython",
        "version": 3
      },
      "file_extension": ".py",
      "mimetype": "text/x-python",
      "name": "python",
      "nbconvert_exporter": "python",
      "pygments_lexer": "ipython3",
      "version": "3.6.6"
    },
    "pycharm": {
      "stem_cell": {
        "cell_type": "raw",
        "source": [],
        "metadata": {
          "collapsed": false
        }
      }
    },
    "colab": {
      "name": "rec_latent.ipynb",
      "provenance": [],
      "include_colab_link": true
    }
  },
  "cells": [
    {
      "cell_type": "markdown",
      "metadata": {
        "id": "view-in-github",
        "colab_type": "text"
      },
      "source": [
        "<a href=\"https://colab.research.google.com/github/albanda/CE888/blob/master/lab4-recommender/rec_latent.ipynb\" target=\"_parent\"><img src=\"https://colab.research.google.com/assets/colab-badge.svg\" alt=\"Open In Colab\"/></a>"
      ]
    },
    {
      "cell_type": "markdown",
      "metadata": {
        "id": "nr5vmuieudwA"
      },
      "source": [
        "# Latent Factor Models for Collaborative Filtering"
      ]
    },
    {
      "cell_type": "markdown",
      "metadata": {
        "id": "9IwOt0KmudwF"
      },
      "source": [
        "Load required libraries"
      ]
    },
    {
      "cell_type": "code",
      "metadata": {
        "id": "mMK0wtc7udwK"
      },
      "source": [
        "import pandas as pd\n",
        "import numpy as np\n",
        "import matplotlib.pyplot as plt\n",
        "np.set_printoptions(precision=3)"
      ],
      "execution_count": 1,
      "outputs": []
    },
    {
      "cell_type": "markdown",
      "metadata": {
        "id": "VktPdK5Zudwg"
      },
      "source": [
        "Now load the data"
      ]
    },
    {
      "cell_type": "code",
      "metadata": {
        "id": "f7TJ-p56udwi"
      },
      "source": [
        "data = pd.read_csv(\"https://raw.githubusercontent.com/albanda/CE888/master/lab4-recommender/user_ratings.csv\")"
      ],
      "execution_count": 2,
      "outputs": []
    },
    {
      "cell_type": "code",
      "metadata": {
        "id": "hiebFNqnudwq"
      },
      "source": [
        "n_latent_factors = 2\n",
        "\n",
        "user_ratings = data.values\n",
        "# Initialise as random values\n",
        "latent_user_preferences = np.random.random((user_ratings.shape[0], n_latent_factors))\n",
        "latent_item_features = np.random.random((user_ratings.shape[1], n_latent_factors))"
      ],
      "execution_count": 3,
      "outputs": []
    },
    {
      "cell_type": "code",
      "metadata": {
        "id": "AH-TJAWIudww",
        "colab": {
          "base_uri": "https://localhost:8080/"
        },
        "outputId": "d56ec1ce-941b-4054-fdf8-000a3e71a84d"
      },
      "source": [
        "latent_item_features"
      ],
      "execution_count": 4,
      "outputs": [
        {
          "output_type": "execute_result",
          "data": {
            "text/plain": [
              "array([[0.126, 0.801],\n",
              "       [0.561, 0.888],\n",
              "       [0.528, 0.267],\n",
              "       [0.79 , 0.617],\n",
              "       [0.986, 0.246]])"
            ]
          },
          "metadata": {
            "tags": []
          },
          "execution_count": 4
        }
      ]
    },
    {
      "cell_type": "code",
      "metadata": {
        "id": "i2XBYI2-udw2",
        "colab": {
          "base_uri": "https://localhost:8080/"
        },
        "outputId": "f23ef9d6-e6c7-4144-96e3-b69f12d00ea5"
      },
      "source": [
        "latent_user_preferences"
      ],
      "execution_count": 5,
      "outputs": [
        {
          "output_type": "execute_result",
          "data": {
            "text/plain": [
              "array([[0.556, 0.813],\n",
              "       [0.573, 0.638],\n",
              "       [0.776, 0.989],\n",
              "       [0.166, 0.297],\n",
              "       [0.457, 0.689],\n",
              "       [0.369, 0.332],\n",
              "       [0.248, 0.51 ],\n",
              "       [0.931, 0.246],\n",
              "       [0.565, 0.289],\n",
              "       [0.627, 0.529]])"
            ]
          },
          "metadata": {
            "tags": []
          },
          "execution_count": 5
        }
      ]
    },
    {
      "cell_type": "code",
      "metadata": {
        "id": "Q8V063y2udw8"
      },
      "source": [
        "def predict_rating(user_id, item_id):\n",
        "    \"\"\" Predict a rating given a user_id and an item_id.\n",
        "    \"\"\"\n",
        "    user_preference = latent_user_preferences[user_id]\n",
        "    item_preference = latent_item_features[item_id]\n",
        "    return user_preference.dot(item_preference)\n",
        "\n",
        "\n",
        "def train(user_id, item_id, rating, alpha=0.0001):\n",
        "    #print(item_id)\n",
        "    prediction_rating = predict_rating(user_id, item_id)\n",
        "    err =  prediction_rating - rating\n",
        "    #print(err)\n",
        "    user_pref_values = latent_user_preferences[user_id][:]\n",
        "    latent_user_preferences[user_id] -= alpha * err * latent_item_features[item_id]\n",
        "    latent_item_features[item_id] -= alpha * err * user_pref_values\n",
        "    return err\n",
        "    \n",
        "\n",
        "def sgd(iterations=300000):\n",
        "    \"\"\" Iterate over all users and all items and train for \n",
        "        a certain number of iterations\n",
        "    \"\"\"\n",
        "    mse_history = []\n",
        "    for iteration in range(iterations):\n",
        "        error = []\n",
        "        for user_id in range(latent_user_preferences.shape[0]):\n",
        "            for item_id in range(latent_item_features.shape[0]):\n",
        "                rating = user_ratings[user_id][item_id]\n",
        "                if not np.isnan(rating):\n",
        "                    err = train(user_id, item_id, rating)\n",
        "                    error.append(err)\n",
        "        mse = (np.array(error) ** 2).mean()   \n",
        "        if (iteration % 10000) == 0:\n",
        "            print('Iteration %d/%d:\\tMSE=%.6f' % (iteration, iterations, mse))\n",
        "            mse_history.append(mse)\n",
        "    return mse_history"
      ],
      "execution_count": 6,
      "outputs": []
    },
    {
      "cell_type": "code",
      "metadata": {
        "id": "B4AG2bDqudxE",
        "colab": {
          "base_uri": "https://localhost:8080/",
          "height": 789
        },
        "outputId": "28212348-a8f8-41dd-b724-7528c6aa1be9"
      },
      "source": [
        "num_iter = 300000\n",
        "hist = sgd(num_iter)  # Note how the MSE decreases with the number of iterations\n",
        "plt.figure()\n",
        "plt.plot(np.arange(0, num_iter, 10000), hist)\n",
        "plt.xlabel(\"Iterations\")\n",
        "plt.ylabel(\"MSE\")\n",
        "plt.show()"
      ],
      "execution_count": 7,
      "outputs": [
        {
          "output_type": "stream",
          "text": [
            "Iteration 0/300000:\tMSE=24.634146\n",
            "Iteration 10000/300000:\tMSE=1.469643\n",
            "Iteration 20000/300000:\tMSE=1.310483\n",
            "Iteration 30000/300000:\tMSE=1.275212\n",
            "Iteration 40000/300000:\tMSE=1.244871\n",
            "Iteration 50000/300000:\tMSE=1.226420\n",
            "Iteration 60000/300000:\tMSE=1.216908\n",
            "Iteration 70000/300000:\tMSE=1.211937\n",
            "Iteration 80000/300000:\tMSE=1.209140\n",
            "Iteration 90000/300000:\tMSE=1.207440\n",
            "Iteration 100000/300000:\tMSE=1.206340\n",
            "Iteration 110000/300000:\tMSE=1.205592\n",
            "Iteration 120000/300000:\tMSE=1.205062\n",
            "Iteration 130000/300000:\tMSE=1.204674\n",
            "Iteration 140000/300000:\tMSE=1.204384\n",
            "Iteration 150000/300000:\tMSE=1.204162\n",
            "Iteration 160000/300000:\tMSE=1.203990\n",
            "Iteration 170000/300000:\tMSE=1.203854\n",
            "Iteration 180000/300000:\tMSE=1.203745\n",
            "Iteration 190000/300000:\tMSE=1.203658\n",
            "Iteration 200000/300000:\tMSE=1.203587\n",
            "Iteration 210000/300000:\tMSE=1.203529\n",
            "Iteration 220000/300000:\tMSE=1.203482\n",
            "Iteration 230000/300000:\tMSE=1.203442\n",
            "Iteration 240000/300000:\tMSE=1.203409\n",
            "Iteration 250000/300000:\tMSE=1.203382\n",
            "Iteration 260000/300000:\tMSE=1.203359\n",
            "Iteration 270000/300000:\tMSE=1.203340\n",
            "Iteration 280000/300000:\tMSE=1.203324\n",
            "Iteration 290000/300000:\tMSE=1.203310\n"
          ],
          "name": "stdout"
        },
        {
          "output_type": "display_data",
          "data": {
            "image/png": "[encoded data removed]",
            "text/plain": [
              "<Figure size 432x288 with 1 Axes>"
            ]
          },
          "metadata": {
            "tags": [],
            "needs_background": "light"
          }
        }
      ]
    },
    {
      "cell_type": "code",
      "metadata": {
        "id": "L8Tfh1BzudxM",
        "colab": {
          "base_uri": "https://localhost:8080/"
        },
        "outputId": "1743d06a-936c-45f9-df42-96060c0db8ff"
      },
      "source": [
        "predictions = latent_user_preferences.dot(latent_item_features.T)\n",
        "predictions"
      ],
      "execution_count": 16,
      "outputs": [
        {
          "output_type": "execute_result",
          "data": {
            "text/plain": [
              "array([[  7.204,   1.63 ,  10.876,   4.142,   5.725],\n",
              "       [  3.531,   2.202, -11.392,   7.574,   5.863],\n",
              "       [  8.106,   2.28 ,   6.919,   6.424,   7.415],\n",
              "       [  9.6  ,   2.8  ,   7.001,   8.003,   8.998],\n",
              "       [  6.53 ,   1.616,   8.207,   4.302,   5.492],\n",
              "       [  2.846,   0.602,   4.799,   1.469,   2.17 ],\n",
              "       [  5.257,   1.327,   6.293,   3.567,   4.478],\n",
              "       [  7.495,   2.477,   2.009,   7.395,   7.657],\n",
              "       [  2.321,   1.806, -11.755,   6.394,   4.634],\n",
              "       [  3.988,   0.992,   4.95 ,   2.648,   3.365]])"
            ]
          },
          "metadata": {
            "tags": []
          },
          "execution_count": 16
        }
      ]
    },
    {
      "cell_type": "code",
      "metadata": {
        "id": "TAiX0X8NudxY"
      },
      "source": [
        "values = [zip(user_ratings[i], predictions[i]) for i in range(predictions.shape[0])]\n",
        "comparison_data = pd.DataFrame(values)\n",
        "comparison_data.columns = data.columns"
      ],
      "execution_count": 17,
      "outputs": []
    },
    {
      "cell_type": "code",
      "metadata": {
        "pycharm": {
          "name": "#%%\n"
        },
        "id": "SYdnh4Qiudxg",
        "colab": {
          "base_uri": "https://localhost:8080/",
          "height": 359
        },
        "outputId": "fe2e6389-779a-40b0-e7e0-fe53dfd3f142"
      },
      "source": [
        "comparison_data\n",
        "# For each data point, the number on the left is the original value from the dataset, the number on the right is the prediction"
      ],
      "execution_count": 18,
      "outputs": [
        {
          "output_type": "execute_result",
          "data": {
            "text/html": [
              "<div>\n",
              "<style scoped>\n",
              "    .dataframe tbody tr th:only-of-type {\n",
              "        vertical-align: middle;\n",
              "    }\n",
              "\n",
              "    .dataframe tbody tr th {\n",
              "        vertical-align: top;\n",
              "    }\n",
              "\n",
              "    .dataframe thead th {\n",
              "        text-align: right;\n",
              "    }\n",
              "</style>\n",
              "<table border=\"1\" class=\"dataframe\">\n",
              "  <thead>\n",
              "    <tr style=\"text-align: right;\">\n",
              "      <th></th>\n",
              "      <th>The Call of Cthulhu</th>\n",
              "      <th>Frankenstein</th>\n",
              "      <th>Dracula</th>\n",
              "      <th>Neuromancer</th>\n",
              "      <th>Space Odyssey</th>\n",
              "    </tr>\n",
              "  </thead>\n",
              "  <tbody>\n",
              "    <tr>\n",
              "      <th>0</th>\n",
              "      <td>(8.0, 7.204028564419961)</td>\n",
              "      <td>(2.0, 1.6296958988743127)</td>\n",
              "      <td>(nan, 10.876037065905917)</td>\n",
              "      <td>(5.0, 4.141678056868416)</td>\n",
              "      <td>(4.0, 5.725097563601912)</td>\n",
              "    </tr>\n",
              "    <tr>\n",
              "      <th>1</th>\n",
              "      <td>(3.0, 3.530852621094688)</td>\n",
              "      <td>(2.0, 2.2021059836041252)</td>\n",
              "      <td>(nan, -11.391582858971232)</td>\n",
              "      <td>(7.0, 7.57421585793349)</td>\n",
              "      <td>(7.0, 5.862568833033404)</td>\n",
              "    </tr>\n",
              "    <tr>\n",
              "      <th>2</th>\n",
              "      <td>(9.0, 8.106466840796639)</td>\n",
              "      <td>(nan, 2.2802250595551032)</td>\n",
              "      <td>(7.0, 6.9194760647452)</td>\n",
              "      <td>(8.0, 6.424027196692321)</td>\n",
              "      <td>(5.0, 7.414506853966293)</td>\n",
              "    </tr>\n",
              "    <tr>\n",
              "      <th>3</th>\n",
              "      <td>(nan, 9.599678360837288)</td>\n",
              "      <td>(nan, 2.800397083625027)</td>\n",
              "      <td>(7.0, 7.0006191843208185)</td>\n",
              "      <td>(8.0, 8.003017052291689)</td>\n",
              "      <td>(9.0, 8.998400254354072)</td>\n",
              "    </tr>\n",
              "    <tr>\n",
              "      <th>4</th>\n",
              "      <td>(nan, 6.530368402043546)</td>\n",
              "      <td>(1.0, 1.6159167047431418)</td>\n",
              "      <td>(8.0, 8.20727245764993)</td>\n",
              "      <td>(3.0, 4.3020192580113195)</td>\n",
              "      <td>(7.0, 5.491647017624669)</td>\n",
              "    </tr>\n",
              "    <tr>\n",
              "      <th>5</th>\n",
              "      <td>(2.0, 2.845752335457566)</td>\n",
              "      <td>(3.0, 0.6015384070505224)</td>\n",
              "      <td>(5.0, 4.799458735333343)</td>\n",
              "      <td>(nan, 1.4692241589056212)</td>\n",
              "      <td>(nan, 2.1695672544440563)</td>\n",
              "    </tr>\n",
              "    <tr>\n",
              "      <th>6</th>\n",
              "      <td>(4.0, 5.256645194728681)</td>\n",
              "      <td>(2.0, 1.3270723057023837)</td>\n",
              "      <td>(nan, 6.292684678447511)</td>\n",
              "      <td>(2.0, 3.5669653507870485)</td>\n",
              "      <td>(7.0, 4.477878898355621)</td>\n",
              "    </tr>\n",
              "    <tr>\n",
              "      <th>7</th>\n",
              "      <td>(7.0, 7.494952025425383)</td>\n",
              "      <td>(1.0, 2.4765484954845753)</td>\n",
              "      <td>(2.0, 2.0085032072492797)</td>\n",
              "      <td>(7.0, 7.394614758261782)</td>\n",
              "      <td>(9.0, 7.657436547122276)</td>\n",
              "    </tr>\n",
              "    <tr>\n",
              "      <th>8</th>\n",
              "      <td>(3.0, 2.321070432751476)</td>\n",
              "      <td>(3.0, 1.8056344805280264)</td>\n",
              "      <td>(nan, -11.754811024849658)</td>\n",
              "      <td>(7.0, 6.3935698488996175)</td>\n",
              "      <td>(3.0, 4.633693625040771)</td>\n",
              "    </tr>\n",
              "    <tr>\n",
              "      <th>9</th>\n",
              "      <td>(4.0, 3.98791181340145)</td>\n",
              "      <td>(nan, 0.9919862779535926)</td>\n",
              "      <td>(5.0, 4.950088527025237)</td>\n",
              "      <td>(3.0, 2.6476321486852195)</td>\n",
              "      <td>(3.0, 3.3649013180491036)</td>\n",
              "    </tr>\n",
              "  </tbody>\n",
              "</table>\n",
              "</div>"
            ],
            "text/plain": [
              "        The Call of Cthulhu  ...              Space Odyssey\n",
              "0  (8.0, 7.204028564419961)  ...   (4.0, 5.725097563601912)\n",
              "1  (3.0, 3.530852621094688)  ...   (7.0, 5.862568833033404)\n",
              "2  (9.0, 8.106466840796639)  ...   (5.0, 7.414506853966293)\n",
              "3  (nan, 9.599678360837288)  ...   (9.0, 8.998400254354072)\n",
              "4  (nan, 6.530368402043546)  ...   (7.0, 5.491647017624669)\n",
              "5  (2.0, 2.845752335457566)  ...  (nan, 2.1695672544440563)\n",
              "6  (4.0, 5.256645194728681)  ...   (7.0, 4.477878898355621)\n",
              "7  (7.0, 7.494952025425383)  ...   (9.0, 7.657436547122276)\n",
              "8  (3.0, 2.321070432751476)  ...   (3.0, 4.633693625040771)\n",
              "9   (4.0, 3.98791181340145)  ...  (3.0, 3.3649013180491036)\n",
              "\n",
              "[10 rows x 5 columns]"
            ]
          },
          "metadata": {
            "tags": []
          },
          "execution_count": 18
        }
      ]
    },
    {
      "cell_type": "code",
      "metadata": {
        "id": "KdZnF37RoyMp"
      },
      "source": [
        ""
      ],
      "execution_count": null,
      "outputs": []
    }
  ]
}