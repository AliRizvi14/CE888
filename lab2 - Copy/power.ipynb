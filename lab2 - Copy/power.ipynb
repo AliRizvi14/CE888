{
 "cells": [
  {
   "cell_type": "code",
   "execution_count": null,
   "metadata": {},
   "outputs": [],
   "source": [
    "def power(sample1, sample2, reps, size, alpha):\n",
    "    # 1. repat 'reps' times:\n",
    "    for i in range(len(reps)):\n",
    "        sample1_new = #TODO: resample from sample1\n",
    "        sample2_new = #TODO: resample from sample2\n",
    "        #TODO: now concatenate sample1_new and sample2_new\n",
    "        \n",
    "        \n",
    "        \n",
    "        # TODO: perform a permutation test (you can pass the value \n",
    "        # of the number of times to permutate as a new parameter to the function or hardcode it inside).\n",
    "        # I recommend creating a permutation_test() function\n",
    "        # that receives the new samples and returns the p-value\n",
    "        \n",
    "        \n",
    "        \n",
    "        # The permutation test will return you a p-value. Count how many times (out of 'reps') it is < alpha \n",
    "        # and return that as a percentage\n",
    "        \n",
    "        \n",
    "    return percentage"
   ]
  }
 ],
 "metadata": {
  "kernelspec": {
   "display_name": "Python 3",
   "language": "python",
   "name": "python3"
  },
  "language_info": {
   "codemirror_mode": {
    "name": "ipython",
    "version": 3
   },
   "file_extension": ".py",
   "mimetype": "text/x-python",
   "name": "python",
   "nbconvert_exporter": "python",
   "pygments_lexer": "ipython3",
   "version": "3.6.6"
  }
 },
 "nbformat": 4,
 "nbformat_minor": 2
}
